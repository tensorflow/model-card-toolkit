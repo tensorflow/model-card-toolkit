{
  "cells": [
    {
      "cell_type": "markdown",
      "metadata": {
        "id": "Tce3stUlHN0L"
      },
      "source": [
        "##### Copyright 2020 The TensorFlow Authors."
      ]
    },
    {
      "cell_type": "code",
      "execution_count": null,
      "metadata": {
        "cellView": "form",
        "id": "tuOe1ymfHZPu"
      },
      "outputs": [],
      "source": [
        "#@title Licensed under the Apache License, Version 2.0 (the \"License\");\n",
        "# you may not use this file except in compliance with the License.\n",
        "# You may obtain a copy of the License at\n",
        "#\n",
        "# https://www.apache.org/licenses/LICENSE-2.0\n",
        "#\n",
        "# Unless required by applicable law or agreed to in writing, software\n",
        "# distributed under the License is distributed on an \"AS IS\" BASIS,\n",
        "# WITHOUT WARRANTIES OR CONDITIONS OF ANY KIND, either express or implied.\n",
        "# See the License for the specific language governing permissions and\n",
        "# limitations under the License."
      ]
    },
    {
      "cell_type": "markdown",
      "metadata": {
        "id": "23R0Z9RojXYW"
      },
      "source": [
        "# Scikit-Learn Model Card Toolkit Demo\n"
      ]
    },
    {
      "cell_type": "markdown",
      "metadata": {
        "id": "MfBg1C5NB3X0"
      },
      "source": [
        "\u003ctable class=\"tfo-notebook-buttons\" align=\"left\"\u003e\n",
        "  \u003ctd\u003e\n",
        "    \u003ca target=\"_blank\" href=\"https://www.tensorflow.org/responsible_ai/model_card_toolkit/examples/Scikit_Learn_Model_Card_Toolkit_Demo\"\u003e\u003cimg src=\"https://www.tensorflow.org/images/tf_logo_32px.png\" /\u003eView on TensorFlow.org\u003c/a\u003e\n",
        "  \u003c/td\u003e\n",
        "  \u003ctd\u003e\n",
        "    \u003ca target=\"_blank\" href=\"https://colab.research.google.com/github/tensorflow/model-card-toolkit/blob/main/model_card_toolkit/documentation/examples/Scikit_Learn_Model_Card_Toolkit_Demo.ipynb\"\u003e\u003cimg src=\"https://www.tensorflow.org/images/colab_logo_32px.png\" /\u003eRun in Google Colab\u003c/a\u003e\n",
        "  \u003c/td\u003e\n",
        "  \u003ctd\u003e\n",
        "    \u003ca target=\"_blank\" href=\"https://github.com/tensorflow/model-card-toolkit/blob/main/model_card_toolkit/documentation/examples/Scikit_Learn_Model_Card_Toolkit_Demo.ipynb\"\u003e\u003cimg src=\"https://www.tensorflow.org/images/GitHub-Mark-32px.png\" /\u003eView on GitHub\u003c/a\u003e\n",
        "  \u003c/td\u003e\n",
        "  \u003ctd\u003e\n",
        "    \u003ca href=\"https://storage.googleapis.com/tensorflow_docs/model-card-toolkit/model_card_toolkit/documentation/examples/Scikit_Learn_Model_Card_Toolkit_Demo.ipynb\"\u003e\u003cimg src=\"https://www.tensorflow.org/images/download_logo_32px.png\" /\u003eDownload notebook\u003c/a\u003e\n",
        "  \u003c/td\u003e\n",
        "\u003c/table\u003e"
      ]
    },
    {
      "cell_type": "markdown",
      "metadata": {
        "id": "A5epNF_aiYj0"
      },
      "source": [
        "## Background\n",
        "This notebook demonstrates how to generate a model card using the Model Card Toolkit with a scikit-learn model in a Jupyter/Colab environment. You can learn more about model cards at [https://modelcards.withgoogle.com/about](https://modelcards.withgoogle.com/about).\n",
        "\n",
        "## Setup\n",
        "We first need to install and import the necessary packages.\n",
        "\n",
        "### Upgrade Pip and Install Packages"
      ]
    },
    {
      "cell_type": "code",
      "execution_count": null,
      "metadata": {
        "id": "1OiOQJDPiYj3"
      },
      "outputs": [],
      "source": [
        "!pip install --upgrade pip\n",
        "!pip install --upgrade seaborn 'scikit-learn\u003e=0.22.0' model-card-toolkit"
      ]
    },
    {
      "cell_type": "markdown",
      "metadata": {
        "id": "JpcNkrmLiYj7"
      },
      "source": [
        "### Did you restart the runtime?\n",
        "\n",
        "If you are using Google Colab, the first time that you run the cell above, you must restart the runtime (Runtime \u003e Restart runtime ...)."
      ]
    },
    {
      "cell_type": "markdown",
      "metadata": {
        "id": "YKbr6rJDC9bk"
      },
      "source": [
        "### Import packages\n",
        "\n",
        "We import necessary packages, including scikit-learn."
      ]
    },
    {
      "cell_type": "code",
      "execution_count": null,
      "metadata": {
        "id": "y25vFI3WiYj7"
      },
      "outputs": [],
      "source": [
        "from datetime import date\n",
        "from io import BytesIO\n",
        "from IPython import display\n",
        "import model_card_toolkit as mctlib\n",
        "from sklearn.datasets import load_breast_cancer\n",
        "from sklearn.ensemble import GradientBoostingClassifier\n",
        "from sklearn.model_selection import train_test_split\n",
        "from sklearn.metrics import ConfusionMatrixDisplay, RocCurveDisplay\n",
        "\n",
        "import base64\n",
        "import matplotlib.pyplot as plt\n",
        "import pandas as pd\n",
        "import seaborn as sns\n",
        "import uuid"
      ]
    },
    {
      "cell_type": "markdown",
      "metadata": {
        "id": "XVdpINibiYj-"
      },
      "source": [
        "## Load data\n",
        "\n",
        "This example uses the Breast Cancer Wisconsin Diagnostic dataset that scikit-learn can load using the [load_breast_cancer()](https://scikit-learn.org/stable/modules/generated/sklearn.datasets.load_breast_cancer.html) function."
      ]
    },
    {
      "cell_type": "code",
      "execution_count": null,
      "metadata": {
        "id": "aR6kzqPeiYj_"
      },
      "outputs": [],
      "source": [
        "cancer = load_breast_cancer()\n",
        "\n",
        "X = pd.DataFrame(cancer.data, columns=cancer.feature_names)\n",
        "y = pd.Series(cancer.target)\n",
        "\n",
        "X_train, X_test, y_train, y_test = train_test_split(X, y)"
      ]
    },
    {
      "cell_type": "code",
      "execution_count": null,
      "metadata": {
        "id": "DwjxhVtTiYkB"
      },
      "outputs": [],
      "source": [
        "X_train.head()"
      ]
    },
    {
      "cell_type": "code",
      "execution_count": null,
      "metadata": {
        "id": "fCOK-1gyiYkE"
      },
      "outputs": [],
      "source": [
        "y_train.head()"
      ]
    },
    {
      "cell_type": "markdown",
      "metadata": {
        "id": "KmOnApwWiYkG"
      },
      "source": [
        "## Plot data\n",
        "\n",
        "We will create several plots from the data that we will include in the model card."
      ]
    },
    {
      "cell_type": "code",
      "execution_count": null,
      "metadata": {
        "id": "O9n6rAV7iYkG"
      },
      "outputs": [],
      "source": [
        "# Utility function that will export a plot to a base-64 encoded string that the model card will accept.\n",
        "\n",
        "def plot_to_str():\n",
        "    img = BytesIO()\n",
        "    plt.savefig(img, format='png')\n",
        "    return base64.encodebytes(img.getvalue()).decode('utf-8')"
      ]
    },
    {
      "cell_type": "code",
      "execution_count": null,
      "metadata": {
        "id": "lpZLJG3hiYkI"
      },
      "outputs": [],
      "source": [
        "# Plot the mean radius feature for both the train and test sets\n",
        "\n",
        "sns.displot(x=X_train['mean radius'], hue=y_train)\n",
        "mean_radius_train = plot_to_str()\n",
        "\n",
        "sns.displot(x=X_test['mean radius'], hue=y_test)\n",
        "mean_radius_test = plot_to_str()"
      ]
    },
    {
      "cell_type": "code",
      "execution_count": null,
      "metadata": {
        "id": "sFenUqQPiYkK"
      },
      "outputs": [],
      "source": [
        "# Plot the mean texture feature for both the train and test sets\n",
        "\n",
        "sns.displot(x=X_train['mean texture'], hue=y_train)\n",
        "mean_texture_train = plot_to_str()\n",
        "\n",
        "sns.displot(x=X_test['mean texture'], hue=y_test)\n",
        "mean_texture_test = plot_to_str()"
      ]
    },
    {
      "cell_type": "markdown",
      "metadata": {
        "id": "hA7QthuhiYkM"
      },
      "source": [
        "## Train model"
      ]
    },
    {
      "cell_type": "code",
      "execution_count": null,
      "metadata": {
        "id": "8VkTo7BxiYkN"
      },
      "outputs": [],
      "source": [
        "# Create a classifier and fit the training data\n",
        "\n",
        "clf = GradientBoostingClassifier().fit(X_train, y_train)"
      ]
    },
    {
      "cell_type": "markdown",
      "metadata": {
        "id": "7fo-7XlIiYkP"
      },
      "source": [
        "## Evaluate model"
      ]
    },
    {
      "cell_type": "code",
      "execution_count": null,
      "metadata": {
        "id": "_vEWAT2OiYkP"
      },
      "outputs": [],
      "source": [
        "# Plot a ROC curve\n",
        "\n",
        "RocCurveDisplay.from_estimator(clf, X_test, y_test)\n",
        "roc_curve = plot_to_str()"
      ]
    },
    {
      "cell_type": "code",
      "execution_count": null,
      "metadata": {
        "id": "QiNgUZKxiYkR"
      },
      "outputs": [],
      "source": [
        "# Plot a confusion matrix\n",
        "\n",
        "ConfusionMatrixDisplay.from_estimator(clf, X_test, y_test)\n",
        "confusion_matrix = plot_to_str()"
      ]
    },
    {
      "cell_type": "markdown",
      "metadata": {
        "id": "gN48E4y-iYkT"
      },
      "source": [
        "## Create a model card"
      ]
    },
    {
      "cell_type": "markdown",
      "metadata": {
        "id": "CBdRuxURiYkT"
      },
      "source": [
        "### Initialize toolkit and model card"
      ]
    },
    {
      "cell_type": "code",
      "execution_count": null,
      "metadata": {
        "id": "CI9ganKQiYkT"
      },
      "outputs": [],
      "source": [
        "mct = mctlib.ModelCardToolkit()\n",
        "\n",
        "model_card = mct.scaffold_assets()"
      ]
    },
    {
      "cell_type": "markdown",
      "metadata": {
        "id": "CERQtrHWiYkV"
      },
      "source": [
        "### Annotate information into model card"
      ]
    },
    {
      "cell_type": "code",
      "execution_count": null,
      "metadata": {
        "id": "TLzNJ_kriYkV"
      },
      "outputs": [],
      "source": [
        "model_card.model_details.name = 'Breast Cancer Wisconsin (Diagnostic) Dataset'\n",
        "model_card.model_details.overview = (\n",
        "    'This model predicts whether breast cancer is benign or malignant based on '\n",
        "    'image measurements.')\n",
        "model_card.model_details.owners = [\n",
        "    mctlib.Owner(name= 'Model Cards Team', contact='model-cards@google.com')\n",
        "]\n",
        "model_card.model_details.references = [\n",
        "    mctlib.Reference(reference='https://archive.ics.uci.edu/ml/datasets/Breast+Cancer+Wisconsin+(Diagnostic)'),\n",
        "    mctlib.Reference(reference='https://minds.wisconsin.edu/bitstream/handle/1793/59692/TR1131.pdf')\n",
        "]\n",
        "model_card.model_details.version.name = str(uuid.uuid4())\n",
        "model_card.model_details.version.date = str(date.today())\n",
        "\n",
        "model_card.considerations.ethical_considerations = [mctlib.Risk(\n",
        "    name=('Manual selection of image sections to digitize could create '\n",
        "            'selection bias'),\n",
        "    mitigation_strategy='Automate the selection process'\n",
        ")]\n",
        "model_card.considerations.limitations = [mctlib.Limitation(description='Breast cancer diagnosis')]\n",
        "model_card.considerations.use_cases = [mctlib.UseCase(description='Breast cancer diagnosis')]\n",
        "model_card.considerations.users = [mctlib.User(description='Medical professionals'), mctlib.User(description='ML researchers')]\n",
        "\n",
        "model_card.model_parameters.data.append(mctlib.Dataset())\n",
        "model_card.model_parameters.data[0].graphics.description = (\n",
        "  f'{len(X_train)} rows with {len(X_train.columns)} features')\n",
        "model_card.model_parameters.data[0].graphics.collection = [\n",
        "    mctlib.Graphic(image=mean_radius_train),\n",
        "    mctlib.Graphic(image=mean_texture_train)\n",
        "]\n",
        "model_card.model_parameters.data.append(mctlib.Dataset())\n",
        "model_card.model_parameters.data[1].graphics.description = (\n",
        "  f'{len(X_test)} rows with {len(X_test.columns)} features')\n",
        "model_card.model_parameters.data[1].graphics.collection = [\n",
        "    mctlib.Graphic(image=mean_radius_test),\n",
        "    mctlib.Graphic(image=mean_texture_test)\n",
        "]\n",
        "model_card.quantitative_analysis.graphics.description = (\n",
        "  'ROC curve and confusion matrix')\n",
        "model_card.quantitative_analysis.graphics.collection = [\n",
        "    mctlib.Graphic(image=roc_curve),\n",
        "    mctlib.Graphic(image=confusion_matrix)\n",
        "]\n",
        "\n",
        "mct.update_model_card(model_card)"
      ]
    },
    {
      "cell_type": "markdown",
      "metadata": {
        "id": "TBqFqMHEiYkX"
      },
      "source": [
        "## Generate model card"
      ]
    },
    {
      "cell_type": "code",
      "execution_count": null,
      "metadata": {
        "id": "XUEG7n7ciYkY"
      },
      "outputs": [],
      "source": [
        "# Return the model card document as an HTML page\n",
        "\n",
        "html = mct.export_format()\n",
        "\n",
        "display.display(display.HTML(html))"
      ]
    }
  ],
  "metadata": {
    "colab": {
      "collapsed_sections": [],
      "name": "Scikit_Learn_Model_Card_Toolkit_Demo.ipynb",
      "provenance": [],
      "toc_visible": true
    },
    "environment": {
      "name": "common-cpu.m56",
      "type": "gcloud",
      "uri": "gcr.io/deeplearning-platform-release/base-cpu:m56"
    },
    "kernelspec": {
      "display_name": "Python 3",
      "language": "python",
      "name": "python3"
    },
    "language_info": {
      "codemirror_mode": {
        "name": "ipython",
        "version": 3
      },
      "file_extension": ".py",
      "mimetype": "text/x-python",
      "name": "python",
      "nbconvert_exporter": "python",
      "pygments_lexer": "ipython3",
      "version": "3.7.8"
    }
  },
  "nbformat": 4,
  "nbformat_minor": 0
}
