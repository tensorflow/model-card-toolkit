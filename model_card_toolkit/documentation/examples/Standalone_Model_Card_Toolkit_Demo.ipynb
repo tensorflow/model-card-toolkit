{
  "cells": [
    {
      "cell_type": "markdown",
      "metadata": {
        "id": "Tce3stUlHN0L"
      },
      "source": [
        "##### Copyright 2020 The TensorFlow Authors."
      ]
    },
    {
      "cell_type": "code",
      "execution_count": null,
      "metadata": {
        "cellView": "form",
        "id": "tuOe1ymfHZPu"
      },
      "outputs": [],
      "source": [
        "#@title Licensed under the Apache License, Version 2.0 (the \"License\");\n",
        "# you may not use this file except in compliance with the License.\n",
        "# You may obtain a copy of the License at\n",
        "#\n",
        "# https://www.apache.org/licenses/LICENSE-2.0\n",
        "#\n",
        "# Unless required by applicable law or agreed to in writing, software\n",
        "# distributed under the License is distributed on an \"AS IS\" BASIS,\n",
        "# WITHOUT WARRANTIES OR CONDITIONS OF ANY KIND, either express or implied.\n",
        "# See the License for the specific language governing permissions and\n",
        "# limitations under the License."
      ]
    },
    {
      "cell_type": "markdown",
      "metadata": {
        "id": "23R0Z9RojXYW"
      },
      "source": [
        "# Standalone Model Card Toolkit Demo\n",
        "\n",
        "This \"standalone\" notebook demonstrates using the Model Card Toolkit without the TFX/MLMD context."
      ]
    },
    {
      "cell_type": "markdown",
      "metadata": {
        "id": "MfBg1C5NB3X0"
      },
      "source": [
        "\u003ctable class=\"tfo-notebook-buttons\" align=\"left\"\u003e\n",
        "  \u003ctd\u003e\n",
        "    \u003ca target=\"_blank\" href=\"https://www.tensorflow.org/responsible_ai/model_card_toolkit/examples/Standalone_Model_Card_Toolkit_Demo\"\u003e\u003cimg src=\"https://www.tensorflow.org/images/tf_logo_32px.png\" /\u003eView on TensorFlow.org\u003c/a\u003e\n",
        "  \u003c/td\u003e\n",
        "  \u003ctd\u003e\n",
        "    \u003ca target=\"_blank\" href=\"https://colab.research.google.com/github/tensorflow/model-card-toolkit/blob/main/model_card_toolkit/documentation/examples/Standalone_Model_Card_Toolkit_Demo.ipynb\"\u003e\u003cimg src=\"https://www.tensorflow.org/images/colab_logo_32px.png\" /\u003eRun in Google Colab\u003c/a\u003e\n",
        "  \u003c/td\u003e\n",
        "  \u003ctd\u003e\n",
        "    \u003ca target=\"_blank\" href=\"https://github.com/tensorflow/model-card-toolkit/blob/main/model_card_toolkit/documentation/examples/Standalone_Model_Card_Toolkit_Demo.ipynb\"\u003e\u003cimg src=\"https://www.tensorflow.org/images/GitHub-Mark-32px.png\" /\u003eView on GitHub\u003c/a\u003e\n",
        "  \u003c/td\u003e\n",
        "  \u003ctd\u003e\n",
        "    \u003ca href=\"https://storage.googleapis.com/tensorflow_docs/model-card-toolkit/model_card_toolkit/documentation/examples/Standalone_Model_Card_Toolkit_Demo.ipynb\"\u003e\u003cimg src=\"https://www.tensorflow.org/images/download_logo_32px.png\" /\u003eDownload notebook\u003c/a\u003e\n",
        "  \u003c/td\u003e\n",
        "\u003c/table\u003e"
      ]
    },
    {
      "cell_type": "markdown",
      "metadata": {
        "id": "sfSQ-kX-MLEr"
      },
      "source": [
        "## Objective\n",
        "\n",
        "This notebook demonstrates how to generate a Model Card using the Model Card Toolkit in a Jupyter/Colab environment. You can learn more about model cards at https://modelcards.withgoogle.com/about. \n",
        "\n",
        "We are using a Keras model in this demo. But the logic below also applies to other ML frameworks in general.\n",
        "\n"
      ]
    },
    {
      "cell_type": "markdown",
      "metadata": {
        "id": "2GivNBNYjb3b"
      },
      "source": [
        "## Setup\n",
        "We first need to a) install and import the necessary packages, and b) download the data."
      ]
    },
    {
      "cell_type": "markdown",
      "metadata": {
        "id": "Fmgi8ZvQkScg"
      },
      "source": [
        "### Upgrade Pip and install the Model Card Toolkit"
      ]
    },
    {
      "cell_type": "code",
      "execution_count": null,
      "metadata": {
        "id": "as4OTe2ukSqm"
      },
      "outputs": [],
      "source": [
        "!pip install --upgrade pip\n",
        "!pip install 'model-card-toolkit\u003e=1.0.0'\n",
        "!pip install 'tensorflow\u003e=2.3.1'\n",
        "!pip install 'tensorflow-datasets\u003e=4.8.2'\n"
      ]
    },
    {
      "cell_type": "markdown",
      "metadata": {
        "id": "EwT0nov5QO1M"
      },
      "source": [
        "#### Did you restart the runtime?\n",
        "\n",
        "If you are using Google Colab, the first time that you run the cell above, you must restart the runtime (Runtime \u003e Restart runtime ...). This is because of the way that Colab loads packages."
      ]
    },
    {
      "cell_type": "markdown",
      "metadata": {
        "id": "7-JNjw8eUdrL"
      },
      "source": [
        "### Imports"
      ]
    },
    {
      "cell_type": "code",
      "execution_count": null,
      "metadata": {
        "id": "Nx4sE8cUUhF-"
      },
      "outputs": [],
      "source": [
        "import tensorflow as tf\n",
        "import numpy as np\n",
        "import model_card_toolkit as mctlib\n",
        "from model_card_toolkit.documentation.examples import cats_vs_dogs\n",
        "from model_card_toolkit.utils.graphics import figure_to_base64str\n",
        "import tempfile\n",
        "import matplotlib.pyplot as plt\n",
        "from IPython import display\n",
        "import requests\n",
        "import os\n",
        "import zipfile"
      ]
    },
    {
      "cell_type": "markdown",
      "metadata": {
        "id": "jzNHy94JjfEJ"
      },
      "source": [
        "## Model"
      ]
    },
    {
      "cell_type": "markdown",
      "metadata": {
        "id": "u7UTf5FqXeQd"
      },
      "source": [
        "We will use a pretrained model with architecture based off [MobileNetV2](https://arxiv.org/abs/1801.04381), a popular 16-layer image classification model. Our model has been trained to distinguish between betweens cats and dogs using the [Cats vs Dogs](https://www.tensorflow.org/datasets/catalog/cats_vs_dogs) dataset. The model training was based on the [TensorFlow transfer learning tutorial](https://www.tensorflow.org/tutorials/images/transfer_learning). "
      ]
    },
    {
      "cell_type": "code",
      "execution_count": null,
      "metadata": {
        "id": "TJzHu_ZQCJ_z"
      },
      "outputs": [],
      "source": [
        "URL = 'https://storage.googleapis.com/cats_vs_dogs_model/cats_vs_dogs_model.zip'\n",
        "BASE_PATH = tempfile.mkdtemp()\n",
        "ZIP_PATH = os.path.join(BASE_PATH, 'cats_vs_dogs_model.zip')\n",
        "MODEL_PATH = os.path.join(BASE_PATH,'cats_vs_dogs_model')\n",
        "\n",
        "r = requests.get(URL, allow_redirects=True)\n",
        "open(ZIP_PATH, 'wb').write(r.content)\n",
        "\n",
        "with zipfile.ZipFile(ZIP_PATH, 'r') as zip_ref:\n",
        "    zip_ref.extractall(BASE_PATH)\n",
        "\n",
        "model = tf.keras.models.load_model(MODEL_PATH)"
      ]
    },
    {
      "cell_type": "markdown",
      "metadata": {
        "id": "7SUMYXTM3Cch"
      },
      "source": [
        "## Dataset"
      ]
    },
    {
      "cell_type": "markdown",
      "metadata": {
        "id": "5ABTI039kuEn"
      },
      "source": [
        "In the cats-vs-dogs dataset, label=0 corresponds to cats while label=1 corresponds to dogs."
      ]
    },
    {
      "cell_type": "code",
      "execution_count": null,
      "metadata": {
        "id": "qxzLef3Z6c4c"
      },
      "outputs": [],
      "source": [
        "def compute_accuracy(data):\n",
        "  x = np.stack(data['examples'])\n",
        "  y = np.asarray(data['labels'])\n",
        "  _, metric = model.evaluate(x, y)\n",
        "  return metric"
      ]
    },
    {
      "cell_type": "code",
      "execution_count": null,
      "metadata": {
        "id": "CZpI3nR-NRza"
      },
      "outputs": [],
      "source": [
        "examples = cats_vs_dogs.get_data()\n",
        "print('num validation examples:', len(examples['combined']['examples']))\n",
        "print('num cat examples:', len(examples['cat']['examples']))\n",
        "print('num dog examples:', len(examples['dog']['examples']))"
      ]
    },
    {
      "cell_type": "code",
      "execution_count": null,
      "metadata": {
        "id": "1pra-P9ZkZ1N"
      },
      "outputs": [],
      "source": [
        "accuracy = compute_accuracy(examples['combined'])\n",
        "cat_accuracy = compute_accuracy(examples['cat'])\n",
        "dog_accuracy = compute_accuracy(examples['dog'])"
      ]
    },
    {
      "cell_type": "markdown",
      "metadata": {
        "id": "sYM7Tnrf7Ffr"
      },
      "source": [
        "## Use the Model Card Toolkit"
      ]
    },
    {
      "cell_type": "markdown",
      "metadata": {
        "id": "nFZ4VJ2HR8BH"
      },
      "source": [
        "### Initialize the Model Card Toolkit\n",
        "\n",
        "The first step is to initialize a `ModelCardToolkit` object, which maintains assets including a [model card JSON file](https://github.com/tensorflow/model-card-toolkit/tree/master/model_card_toolkit/schema/) and [model card document](https://github.com/tensorflow/model-card-toolkit/tree/master/model_card_toolkit/template). Call `ModelCardToolkit.scaffold_assets()` to generate these assets and return a `ModelCard` object."
      ]
    },
    {
      "cell_type": "code",
      "execution_count": null,
      "metadata": {
        "id": "Lw5Xcn4xnNQB"
      },
      "outputs": [],
      "source": [
        "# https://github.com/tensorflow/model-card-toolkit/blob/master/model_card_toolkit/model_card_toolkit.py\n",
        "model_card_dir = tempfile.mkdtemp()\n",
        "mct = mctlib.ModelCardToolkit(model_card_dir)\n",
        "\n",
        "# https://github.com/tensorflow/model-card-toolkit/blob/master/model_card_toolkit/model_card.py\n",
        "model_card = mct.scaffold_assets()"
      ]
    },
    {
      "cell_type": "markdown",
      "metadata": {
        "id": "FrnPOUcAOStf"
      },
      "source": [
        "### Annotate the Model Card\n",
        "\n",
        "The `ModelCard` object returned by `scaffold_assets()` has many fields that can be directly modified. These fields are rendered in the final generated Model Card document. For a comprehensive list, see [model_card.py](https://github.com/tensorflow/model-card-toolkit/blob/master/model_card_toolkit/model_card.py). See [the documentation](https://github.com/tensorflow/model-card-toolkit/blob/master/model_card_toolkit/documentation/guide/concepts.md) for more details.\n"
      ]
    },
    {
      "cell_type": "markdown",
      "metadata": {
        "id": "x5eg7xbISa4g"
      },
      "source": [
        "#### Text Fields"
      ]
    },
    {
      "cell_type": "markdown",
      "metadata": {
        "id": "3cO1srgD2EHw"
      },
      "source": [
        "##### Model Details\n",
        "\n",
        "`model_card.model_details` contains many basic metadata fields such as `name`, `owners`, and `version`. You can provide a description for your model in the `overview` field."
      ]
    },
    {
      "cell_type": "code",
      "execution_count": null,
      "metadata": {
        "id": "RvFUltDAB3O5"
      },
      "outputs": [],
      "source": [
        "model_card.model_details.name = 'Fine-tuned MobileNetV2 Model for Cats vs. Dogs'\n",
        "model_card.model_details.overview = (\n",
        "    'This model distinguishes cat and dog images. It uses the MobileNetV2 '\n",
        "    'architecture (https://arxiv.org/abs/1801.04381) and is trained on the '\n",
        "    'Cats vs Dogs dataset '\n",
        "    '(https://www.tensorflow.org/datasets/catalog/cats_vs_dogs). This model '\n",
        "    'performed with high accuracy on both Cat and Dog images.'\n",
        ")\n",
        "model_card.model_details.owners = [\n",
        "  mctlib.Owner(name='Model Cards Team', contact='model-cards@google.com')\n",
        "]\n",
        "model_card.model_details.version = mctlib.Version(name='v1.0', date='08/28/2020')\n",
        "model_card.model_details.references = [\n",
        "    mctlib.Reference(reference='https://www.tensorflow.org/guide/keras/transfer_learning'),\n",
        "    mctlib.Reference(reference='https://arxiv.org/abs/1801.04381'),\n",
        "]\n",
        "model_card.model_details.licenses = [mctlib.License(identifier='Apache-2.0')]\n",
        "model_card.model_details.citations = [mctlib.Citation(citation='https://github.com/tensorflow/model-card-toolkit/blob/master/model_card_toolkit/documentation/examples/Standalone_Model_Card_Toolkit_Demo.ipynb')]"
      ]
    },
    {
      "cell_type": "markdown",
      "metadata": {
        "id": "yoxXI5-P7JQC"
      },
      "source": [
        "##### Quantitative Analysis\n",
        "\n",
        "`model_card.quantitative_analysis` contains information about a model's performance metrics.\n",
        "\n",
        "Below, we create some synthetic performance metric values for a hypothetical model built on our dataset."
      ]
    },
    {
      "cell_type": "code",
      "execution_count": null,
      "metadata": {
        "id": "rtd9Y7yN7ITg"
      },
      "outputs": [],
      "source": [
        "model_card.quantitative_analysis.performance_metrics = [\n",
        "  mctlib.PerformanceMetric(type='accuracy', value=str(accuracy)),\n",
        "  mctlib.PerformanceMetric(type='accuracy', value=str(cat_accuracy), slice='cat'),\n",
        "  mctlib.PerformanceMetric(type='accuracy', value=str(dog_accuracy), slice='Dog'),\n",
        "]"
      ]
    },
    {
      "cell_type": "markdown",
      "metadata": {
        "id": "zRhj7rQX3gS4"
      },
      "source": [
        "##### Considerations\n",
        "\n",
        "`model_card.considerations` contains qualifying information about your model - what are the appropriate use cases, what are limitations that users should keep in mind, what are the ethical considerations of application, etc."
      ]
    },
    {
      "cell_type": "code",
      "execution_count": null,
      "metadata": {
        "id": "-b12rEyq7QXG"
      },
      "outputs": [],
      "source": [
        "model_card.considerations.use_cases = [\n",
        "    mctlib.UseCase(description='This model classifies images of cats and dogs.')\n",
        "]\n",
        "model_card.considerations.limitations = [\n",
        "    mctlib.Limitation(description='This model is not able to classify images of other classes.')\n",
        "]\n",
        "model_card.considerations.ethical_considerations = [mctlib.Risk(\n",
        "    name=\n",
        "        'While distinguishing between cats and dogs is generally agreed to be '\n",
        "        'a benign application of machine learning, harmful results can occur '\n",
        "        'when the model attempts to classify images that don’t contain cats or '\n",
        "        'dogs.',\n",
        "    mitigation_strategy=\n",
        "        'Avoid application on non-dog and non-cat images.'\n",
        ")]"
      ]
    },
    {
      "cell_type": "markdown",
      "metadata": {
        "id": "Zo9xHyAcVl6h"
      },
      "source": [
        "#### Graph Fields\n",
        "\n",
        "It's often best practice for a report to provide information on a model's training data, and its performance across evaluation data. Model Card Toolkit allows users to encode this information in visualizations, rendered in the Model Card.\n",
        "\n",
        "`model_card` has three sections for graphs -- `model_card.model_parameters.data.train.graphics` for training dataset statistics, `model_card.model_parameters.data.eval.graphics` for evaluation dataset statistics, and `model_card.quantitative_analysis.graphics` for quantitative analysis of model performance.\n",
        "\n",
        "Graphs are stored as [base64 strings](https://en.wikipedia.org/wiki/Base64). If you have a [matplotlib](https://pypi.org/project/matplotlib/) figure, you can convert it to a base64 string with `model_card_toolkit.utils.graphics.figure_to_base64str()`."
      ]
    },
    {
      "cell_type": "code",
      "execution_count": null,
      "metadata": {
        "id": "ZMis4kzXdeqy"
      },
      "outputs": [],
      "source": [
        "# Validation Set Size Bar Chart\n",
        "fig, ax = plt.subplots()\n",
        "width = 0.75\n",
        "rects0 = ax.bar(0, len(examples['combined']['examples']), width, label='Overall')\n",
        "rects1 = ax.bar(1, len(examples['cat']['examples']), width, label='Cat')\n",
        "rects2 = ax.bar(2, len(examples['dog']['examples']), width, label='Dog')\n",
        "ax.set_xticks(np.arange(3))\n",
        "ax.set_xticklabels(['Overall', 'Cat', 'Dog'])\n",
        "ax.set_ylabel('Validation Set Size')\n",
        "ax.set_xlabel('Slices')\n",
        "ax.set_title('Validation Set Size for Slices')\n",
        "validation_set_size_barchart = figure_to_base64str(fig)"
      ]
    },
    {
      "cell_type": "code",
      "execution_count": null,
      "metadata": {
        "id": "UPY-j2RG9Wtr"
      },
      "outputs": [],
      "source": [
        "# Acuracy Bar Chart\n",
        "fig, ax = plt.subplots()\n",
        "width = 0.75\n",
        "rects0 = ax.bar(0, accuracy, width, label='Overall')\n",
        "rects1 = ax.bar(1, cat_accuracy, width, label='Cat')\n",
        "rects2 = ax.bar(2, dog_accuracy, width, label='Dog')\n",
        "ax.set_xticks(np.arange(3))\n",
        "ax.set_xticklabels(['Overall', 'Cat', 'Dog'])\n",
        "ax.set_ylabel('Accuracy')\n",
        "ax.set_xlabel('Slices')\n",
        "ax.set_title('Accuracy on Slices')\n",
        "accuracy_barchart = figure_to_base64str(fig)"
      ]
    },
    {
      "cell_type": "markdown",
      "metadata": {
        "id": "Z7NmkfuAsPV1"
      },
      "source": [
        "Now we can add them to our `ModelCard`."
      ]
    },
    {
      "cell_type": "code",
      "execution_count": null,
      "metadata": {
        "id": "By8Qcr9usRZh"
      },
      "outputs": [],
      "source": [
        "model_card.model_parameters.data.append(mctlib.Dataset())\n",
        "model_card.model_parameters.data[0].graphics.collection = [\n",
        "  mctlib.Graphic(name='Validation Set Size', image=validation_set_size_barchart),\n",
        "]\n",
        "model_card.quantitative_analysis.graphics.collection = [\n",
        "  mctlib.Graphic(name='Accuracy', image=accuracy_barchart),\n",
        "]"
      ]
    },
    {
      "cell_type": "markdown",
      "metadata": {
        "id": "SOYofSZKOMZx"
      },
      "source": [
        "### Generate the Model Card\n",
        "Let's generate the Model Card document. Available formats are stored at [model_card_toolkit/template](https://github.com/tensorflow/model-card-toolkit/tree/master/model_card_toolkit/template). Here, we will demonstrate the HTML and Markdown formats.\n",
        "\n",
        "First, we need to update the `ModelCardToolkit` with the latest `ModelCard`."
      ]
    },
    {
      "cell_type": "code",
      "execution_count": null,
      "metadata": {
        "id": "X7V0pJLB8jqJ"
      },
      "outputs": [],
      "source": [
        "mct.update_model_card(model_card)"
      ]
    },
    {
      "cell_type": "markdown",
      "metadata": {
        "id": "Fe4dya_26fJc"
      },
      "source": [
        "Now, the `ModelCardToolkit` can generate a Model Card document with `ModelCardToolkit.export_format()`."
      ]
    },
    {
      "cell_type": "code",
      "execution_count": null,
      "metadata": {
        "id": "Sd68Ih928vr9"
      },
      "outputs": [],
      "source": [
        "# Generate a model card document in HTML (default)\n",
        "html_doc = mct.export_format()\n",
        "\n",
        "# Display the model card document in HTML\n",
        "display.display(display.HTML(html_doc))"
      ]
    },
    {
      "cell_type": "markdown",
      "metadata": {
        "id": "Vtl8lZG3Amr5"
      },
      "source": [
        "You can also output a Model Card in other formats, like Markdown."
      ]
    },
    {
      "cell_type": "code",
      "execution_count": null,
      "metadata": {
        "id": "uncQA2NfAnIS"
      },
      "outputs": [],
      "source": [
        "# Generate a model card document in Markdown\n",
        "md_path = os.path.join(model_card_dir, 'template/md/default_template.md.jinja')\n",
        "md_doc = mct.export_format(template_path=md_path, output_file='model_card.md')\n",
        "\n",
        "# Display the model card document in Markdown\n",
        "display.display(display.Markdown(md_doc))"
      ]
    }
  ],
  "metadata": {
    "colab": {
      "collapsed_sections": [],
      "name": "Standalone Model Card Toolkit Demo",
      "private_outputs": true,
      "provenance": [],
      "toc_visible": true
    },
    "kernelspec": {
      "display_name": "Python 3",
      "name": "python3"
    }
  },
  "nbformat": 4,
  "nbformat_minor": 0
}
